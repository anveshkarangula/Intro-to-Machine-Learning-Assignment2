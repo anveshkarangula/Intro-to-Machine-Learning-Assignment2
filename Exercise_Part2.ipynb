{
 "cells": [
  {
   "cell_type": "markdown",
   "id": "d604b4a6",
   "metadata": {},
   "source": [
    "## Probability practice\n",
    "\n",
    "__Part A.__ Visitors to your website are asked to answer a single survey question before they get access to the content on the page. Among all of the users, there are two categories: Random Clicker (RC), and Truthful Clicker (TC). There are two possible answers to the survey: yes and no. Random clickers would click either one with equal probability. You are also giving the information that the expected fraction of random clickers is 0.3.  After a trial period, you get the following survey results: 65\\% said Yes and 35\\% said No.   What fraction of people who are truthful clickers answered yes?  Hint: use the rule of total probability."
   ]
  },
  {
   "cell_type": "code",
   "execution_count": null,
   "id": "fc726c32",
   "metadata": {},
   "outputs": [],
   "source": []
  },
  {
   "cell_type": "markdown",
   "id": "27486595",
   "metadata": {},
   "source": [
    "__Part B.__ Imagine a medical test for a disease with the following two attributes:  \n",
    "\n",
    "- The sensitivity is about 0.993. That is, if someone has the disease, there is a probability of 0.993 that they will test positive.  \n",
    "- The specificity is about 0.9999. This means that if someone doesn't have the disease, there is probability of 0.9999 that they will test negative.  \n",
    "- In the general population, incidence of the disease is reasonably rare: about 0.0025% of all people have it (or 0.000025 as a decimal probability).\n",
    "\n",
    "Suppose someone tests positive. What is the probability that they have the disease?  \n"
   ]
  },
  {
   "cell_type": "code",
   "execution_count": null,
   "id": "094665fa",
   "metadata": {},
   "outputs": [],
   "source": []
  },
  {
   "cell_type": "markdown",
   "id": "c35530e2",
   "metadata": {},
   "source": [
    "## Wrangling the Billboard Top 100  \n",
    "\n",
    "Consider the data in [billboard.csv](../data/billboard.csv) containing every song to appear on the weekly [Billboard Top 100](https://www.billboard.com/charts/hot-100/) chart since 1958, up through the middle of 2021.  Each row of this data corresponds to a single song in a single week.  For our purposes, the relevant columns here are:\n",
    "\n",
    "- performer: who performed the song\n",
    "- song: the title of the song\n",
    "- year: year (1958 to 2021)\n",
    "- week: chart week of that year (1, 2, etc)\n",
    "- week_position: what position that song occupied that week on the Billboard top 100 chart.\n",
    "\n",
    " Use your skills in data wrangling and plotting to answer the following three questions.   \n",
    "\n",
    "__Part A__:  Make a table of the top 10 most popular songs since 1958, as measured by the _total number of weeks that a song spent on the Billboard Top 100._  Note that these data end in week 22 of 2021, so the most popular songs of 2021 will not have up-to-the-minute data; please send our apologies to The Weeknd.    \n",
    "\n",
    "Your table should have __10 rows__ and __3 columns__: `performer`, `song`, and `count`, where `count` represents the number of weeks that song appeared in the Billboard Top 100.  Make sure the entries are sorted in descending order of the `count` variable, so that the more popular songs appear at the top of the table.  Give your table a short caption describing what is shown in the table.  \n",
    "\n",
    "(_Note_: you'll want to use both `performer` and `song` in any `group_by` operations, to account for the fact that multiple unique songs can share the same title.)  "
   ]
  },
  {
   "cell_type": "code",
   "execution_count": null,
   "id": "98231e73",
   "metadata": {},
   "outputs": [],
   "source": []
  },
  {
   "cell_type": "markdown",
   "id": "f3558acb",
   "metadata": {},
   "source": [
    "__Part B__: Is the \"musical diversity\" of the Billboard Top 100 changing over time?  Let's find out.  We'll measure the musical diversity of given year as _the number of unique songs that appeared in the Billboard Top 100 that year._  Make a line graph that plots this measure of musical diversity over the years.  The x axis should show the year, while the y axis should show the number of unique songs appearing at any position on the Billboard Top 100 chart in any week that year.  For this part, please filter the data set so that it excludes the years 1958 and 2021, since we do not have complete data on either of those years.   Give the figure an informative caption in which you explain what is shown in the figure and comment on any interesting trends you see.  \n",
    "\n",
    "There are number of ways to accomplish the data wrangling here.  For example, you could use two distinct sets of data-wrangling steps.  The first set of steps would get you a table that counts the number of times that a given song appears on the Top 100 in a given year.  The second set of steps operate on the result of the first set of steps; it would count the number of unique songs that appeared on the Top 100 in each year, _irrespective of how many times_ it had appeared."
   ]
  },
  {
   "cell_type": "code",
   "execution_count": null,
   "id": "3e01d679",
   "metadata": {},
   "outputs": [],
   "source": []
  },
  {
   "cell_type": "markdown",
   "id": "fe35b822",
   "metadata": {},
   "source": [
    "__Part C__: Let's define a \"ten-week hit\" as a single song that appeared on the Billboard Top 100 for at least ten weeks.  There are 19 artists in U.S. musical history since 1958 who have had _at least 30 songs_ that were \"ten-week hits.\"  Make a bar plot for these 19 artists, showing how many ten-week hits each one had in their musical career.   Give the plot an informative caption in which you explain what is shown.\n",
    "\n",
    "\n",
    "_Notes_:  \n",
    "\n",
    "1) You might find this easier to accomplish in two distinct sets of data wrangling steps.\n",
    "2) Make sure that the individuals names of the artists are readable in your plot, and that they're not all jumbled together.  If you find that your plot isn't readable with vertical bars, you can add a `coord_flip()` layer to your plot to make the bars (and labels) run horizontally instead.\n",
    "3) By default a bar plot will order the artists in alphabetical order.  This is acceptable to turn in.  But if you'd like to order them according to some other variable, you can use the `fct_reorder` function, described in [this blog post](https://datavizpyr.com/re-ordering-bars-in-barplot-in-r/).  This is optional.\n"
   ]
  },
  {
   "cell_type": "code",
   "execution_count": null,
   "id": "bc2286b5",
   "metadata": {},
   "outputs": [],
   "source": []
  }
 ],
 "metadata": {
  "kernelspec": {
   "display_name": "Python 3 (ipykernel)",
   "language": "python",
   "name": "python3"
  },
  "language_info": {
   "codemirror_mode": {
    "name": "ipython",
    "version": 3
   },
   "file_extension": ".py",
   "mimetype": "text/x-python",
   "name": "python",
   "nbconvert_exporter": "python",
   "pygments_lexer": "ipython3",
   "version": "3.10.9"
  }
 },
 "nbformat": 4,
 "nbformat_minor": 5
}
